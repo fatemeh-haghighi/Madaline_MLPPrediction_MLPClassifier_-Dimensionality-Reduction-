{
  "nbformat": 4,
  "nbformat_minor": 0,
  "metadata": {
    "colab": {
      "name": "Q1.ipynb",
      "provenance": [],
      "collapsed_sections": []
    },
    "kernelspec": {
      "name": "python3",
      "display_name": "Python 3"
    }
  },
  "cells": [
    {
      "cell_type": "code",
      "metadata": {
        "id": "oTmm6b1YXny3",
        "colab_type": "code",
        "colab": {}
      },
      "source": [
        "import numpy as np\n",
        "import random\n",
        "import matplotlib.pyplot as plt\n",
        "# np.random.seed(1)"
      ],
      "execution_count": 0,
      "outputs": []
    },
    {
      "cell_type": "code",
      "metadata": {
        "id": "rfzDb3GLXtNz",
        "colab_type": "code",
        "colab": {}
      },
      "source": [
        "# creation of orange points\n",
        "x1 = np.random.normal(3, 0.2, 50)\n",
        "x2 = np.random.normal(2.5, 0.3, 50)"
      ],
      "execution_count": 0,
      "outputs": []
    },
    {
      "cell_type": "code",
      "metadata": {
        "id": "nGLLweUbXw5L",
        "colab_type": "code",
        "colab": {}
      },
      "source": [
        "# creation of green points\n",
        "x1_green = np.random.normal(1, 0.2, 50)\n",
        "x2_green = np.random.normal(2, 0.2, 50)\n"
      ],
      "execution_count": 0,
      "outputs": []
    },
    {
      "cell_type": "code",
      "metadata": {
        "id": "x6ZQPfKe2bEJ",
        "colab_type": "code",
        "outputId": "0d42781e-a553-4f8e-bdd9-41db4a7883cc",
        "colab": {
          "base_uri": "https://localhost:8080/",
          "height": 265
        }
      },
      "source": [
        "plt.scatter([1, 2, 3, 0, 2, 4, 2, 1, 3, 4], [1, 1, 1, 2, 2, 2, 3, 3.5, 4, 4])\n",
        "plt.scatter(x1 ,x2, color='orangered', marker = \"*\") \n",
        "# plt.xlim(-1, 5)\n",
        "# plt.ylim(0, 5)\n",
        "plt.scatter(x1_green ,x2_green, color='green', marker = \"3\") \n",
        "plt.show()"
      ],
      "execution_count": 0,
      "outputs": [
        {
          "output_type": "display_data",
          "data": {
            "image/png": "[encoded data removed]",
            "text/plain": [
              "<Figure size 432x288 with 1 Axes>"
            ]
          },
          "metadata": {
            "tags": []
          }
        }
      ]
    },
    {
      "cell_type": "code",
      "metadata": {
        "id": "oNbMWslE_xoX",
        "colab_type": "code",
        "colab": {}
      },
      "source": [
        "class Neuron:\n",
        "  def __init__(self, weights, bias, epoch, activation_function, learning_rate):\n",
        "    self.weights = weights\n",
        "    self.bias = bias\n",
        "    self.epoch = epoch\n",
        "    self.activation_function = activation_function\n",
        "    self.learning_rate = learning_rate\n",
        "    self.counter = 0\n",
        "  \n",
        "  def calculate_net_value(self, inputs):\n",
        "    return np.dot(inputs, self.weights) + self.bias\n",
        "\n",
        "  def calculate_h_value(self, inputs):\n",
        "    return(self.activation_function(self.calculate_net_value(inputs)))\n",
        "\n",
        "  def update(self, target, inputs):\n",
        "    self.bias = self.bias + self.learning_rate * (target - self.calculate_net_value(inputs))\n",
        "    self.weights = self.weights +  np.dot(self.learning_rate * int(target - self.calculate_net_value(inputs)) , inputs)\n",
        "    self.counter += 1\n",
        "\n",
        "\n",
        "  def check_end_condition(self):\n",
        "    if self.counter >= self.epoch:\n",
        "      return True\n",
        "    else:\n",
        "      return False\n",
        "\n",
        "  def get_weights(self):\n",
        "    return self.weights\n",
        "\n",
        "  def get_bias(self):\n",
        "    return self.bias\n",
        "\n",
        "  def set_weight(self, w):\n",
        "    self.weights = w\n",
        "\n",
        "  def set_bias(self, b):\n",
        "    self.bias = b"
      ],
      "execution_count": 0,
      "outputs": []
    },
    {
      "cell_type": "code",
      "metadata": {
        "id": "VOH7jWR_ntSn",
        "colab_type": "code",
        "colab": {}
      },
      "source": [
        "def activation_function(x):\n",
        "  if x >= 0:\n",
        "    return 1\n",
        "  else:\n",
        "    return -1\n",
        "\n",
        "\n",
        "def and_operator(a, b):\n",
        "  if a == 1 and b == 1:\n",
        "    return 1\n",
        "  elif a == 1 and b == -1:\n",
        "    return -1\n",
        "  elif a == -1 and b == 1:\n",
        "    return -1\n",
        "  elif a == -1 and b == -1:\n",
        "    return 1"
      ],
      "execution_count": 0,
      "outputs": []
    },
    {
      "cell_type": "code",
      "metadata": {
        "id": "rxAAlE7yCSAe",
        "colab_type": "code",
        "colab": {}
      },
      "source": [
        "class Network:\n",
        "  def __init__(self, inputs, neuron_number):\n",
        "    self.neuron_number = neuron_number\n",
        "    self.inputs = inputs\n",
        "    self.neurons = []\n",
        "\n",
        "  def make_neurons(self):\n",
        "    for i in range(self.neuron_number):\n",
        "      w = np.random.normal(1, 3, 2)\n",
        "      a = 1\n",
        "      if i == 0:\n",
        "        w = [3, 1]\n",
        "        a = -8.5\n",
        "      if i == 1:\n",
        "        w = [-2, 1]\n",
        "        a = 7\n",
        "      if i == 2:\n",
        "        w = [-0.5, 1]\n",
        "        a = 2\n",
        "      self.neurons.append(Neuron(w, a, 200, activation_function, 0.0001))\n",
        "\n",
        "  def train(self, limit, class_number, offset):\n",
        "    self.make_neurons()\n",
        "    if class_number == 2:\n",
        "      n = random.randint(2, self.neuron_number - 1)\n",
        "      self.neurons[n].set_weight([-1, 2.8])\n",
        "      self.neurons[n].set_bias(13)\n",
        "    if class_number == 1:\n",
        "      n = random.randint(3, self.neuron_number - 1)\n",
        "      self.neurons[n].set_weight([-1.5, 1])\n",
        "      self.neurons[n].set_bias(5)\n",
        "\n",
        "\n",
        "    \n",
        "    # for h in range(len(self.inputs)):\n",
        "    h = [j for j in range(110)]\n",
        "    index_list = random.shuffle(h)\n",
        "    for i in h:\n",
        "\n",
        "      hidden_out = []\n",
        "      for j in range(len(self.neurons)):\n",
        "        hidden_out.append(self.neurons[j].calculate_h_value(inputs[i]))\n",
        "      and_result = 1\n",
        "      for l in range(len(hidden_out)):\n",
        "        and_result = and_operator(and_result, hidden_out[l])\n",
        "      \n",
        "      if (i < limit and class_number == 1) or (i >= limit + offset and class_number == 2):\n",
        "        target = 1\n",
        "      elif (i < limit + offset and class_number == 2) or (i >= limit and class_number == 1):\n",
        "        target = -1\n",
        "\n",
        "      if and_result == 1 and target == -1:\n",
        "        net_values = []\n",
        "        for j in range(len(self.neurons)):\n",
        "          net_values.append(self.neurons[j].calculate_net_value(inputs[i]))\n",
        "        min_net_value = 99999\n",
        "        index = 0\n",
        "        # print(\"net values is \", len(net_values))\n",
        "        for k in range(len(net_values)):\n",
        "          # print(type(net_values[k]))\n",
        "          if net_values[k] < min_net_value:\n",
        "            min_net_value = net_values[k]\n",
        "            index = k\n",
        "        self.neurons[index].update(target, self.inputs[i])\n",
        "        \n",
        "      elif and_result == -1 and target == 1:\n",
        "        for j in range(len(self.neurons)):\n",
        "          if hidden_out[j] == -1:\n",
        "            self.neurons[j].update(target, self.inputs[i])\n",
        "      \n",
        "    weights = []\n",
        "    bias = []\n",
        "    for i in range(len(self.neurons)):\n",
        "      weights.append(self.neurons[i].get_weights())  \n",
        "      bias.append(self.neurons[i].get_bias())\n",
        "    return weights, bias\n",
        "\n",
        "  def test(self, limit, data, class_number, offset):\n",
        "        total = 0\n",
        "        error = 0\n",
        "        for i in range(len(self.inputs)):\n",
        "            hidden_out = []\n",
        "            for j in range(len(self.neurons)):\n",
        "                hidden_out.append(self.neurons[j].calculate_h_value(inputs[i]))\n",
        "            # and_result = and_operator(and_operator(hidden_out[3], hidden_out[2]), and_operator(hidden_out[1], hidden_out[0]))\n",
        "            and_result = 1\n",
        "            for k in range(len(hidden_out)):\n",
        "                and_result = and_operator(and_result, hidden_out[k])\n",
        "            total += 1\n",
        "            \n",
        "            if class_number == 1:\n",
        "                if i < limit:\n",
        "                  if and_result == -1:\n",
        "                    error += 1\n",
        "                else:\n",
        "                  if and_result == 1:\n",
        "                    error += 1\n",
        "\n",
        "            if class_number == 2:\n",
        "                if i >= limit + offset:\n",
        "                  if and_result == -1:\n",
        "                    error += 1\n",
        "                else:\n",
        "                  if and_result == 1:\n",
        "                    error += 1\n",
        "        print(error / total)\n",
        "            # print(total)\n"
      ],
      "execution_count": 0,
      "outputs": []
    },
    {
      "cell_type": "code",
      "metadata": {
        "id": "yiWM7h929Z76",
        "colab_type": "code",
        "colab": {}
      },
      "source": [
        "blue_dots_x = [1, 2, 3, 0, 2, 4, 2, 1, 3, 4]\n",
        "blue_dots_y = [1, 1, 1, 2, 2, 2, 3, 3.5, 4, 4]\n",
        "inputs = []\n",
        "for i in range(50):\n",
        "  inputs.append([x1[i], x2[i]])\n",
        "# print(inputs)\n",
        "\n",
        "for i in range(10):\n",
        "  inputs.append([blue_dots_x[i], blue_dots_y[i]])\n",
        "\n",
        "for i in range(50):\n",
        "  inputs.append([x1_green[i], x2_green[i]])\n"
      ],
      "execution_count": 0,
      "outputs": []
    },
    {
      "cell_type": "code",
      "metadata": {
        "id": "oibzeYDPSO89",
        "colab_type": "code",
        "colab": {}
      },
      "source": [
        "def make_line(weight, bias, x1, x2):\n",
        "  \n",
        "  a_out1 = (x1 * weight[0] + bias) / weight[1]\n",
        "  a_out2 = (x2 * weight[0] + bias) / weight[1]\n",
        "  # if weight[0] < 0:\n",
        "  #   a_out1 = -1*(x1 * weight[0] + bias) / weight[1]\n",
        "  #   a_out2 = -1*(x2 * weight[0] + bias) / weight[1]\n",
        "\n",
        "  return [x1, x2] , [a_out1, a_out2]\n"
      ],
      "execution_count": 0,
      "outputs": []
    },
    {
      "cell_type": "code",
      "metadata": {
        "id": "LEcklYFN-UZ8",
        "colab_type": "code",
        "outputId": "7d913099-08ae-4e4c-bd0c-065d49d73b8f",
        "colab": {
          "base_uri": "https://localhost:8080/",
          "height": 52
        }
      },
      "source": [
        "first_network = Network(inputs, 10)\n",
        "second_network = Network(inputs, 10)\n",
        "\n",
        "# print(\"*********************************************\")\n",
        "second_weights, second_bias = second_network.train(50, 2, 10)\n",
        "first_weights, first_bias = first_network.train(50, 1, 10)\n",
        "\n",
        "first_network.test(50, inputs, 1 ,10)\n",
        "# print(\"----------------------------------------------\")\n",
        "second_network.test(50, inputs, 2, 10)"
      ],
      "execution_count": 0,
      "outputs": [
        {
          "output_type": "stream",
          "text": [
            "0.17272727272727273\n",
            "0.24545454545454545\n"
          ],
          "name": "stdout"
        }
      ]
    },
    {
      "cell_type": "code",
      "metadata": {
        "id": "zINk0SZlmXxM",
        "colab_type": "code",
        "outputId": "792c21be-6d99-4653-cece-dc782f25e593",
        "colab": {
          "base_uri": "https://localhost:8080/",
          "height": 283
        }
      },
      "source": [
        "plt.scatter([1, 2, 3, 0, 2, 4, 2, 1, 3, 4], [1, 1, 1, 2, 2, 2, 3, 3.5, 4, 4])\n",
        "plt.scatter(x1 ,x2, color='orangered', marker = \"*\") \n",
        "plt.xlim([-1, 5])\n",
        "plt.ylim([0, 5])\n",
        "plt.ylabel('y')\n",
        "plt.xlabel('x')\n",
        "plt.scatter(x1_green ,x2_green, color='green', marker = \"3\") \n",
        "for i in range(10):\n",
        "  if i != 1 and i != 0 and i != 3 and i != 4 and i != 6:\n",
        "    x , y = make_line(first_weights[i], first_bias[i], -1, 2.3)\n",
        "    plt.plot(x, y , label = 'line' , color= 'green')\n",
        "# plt.plot([b1 , b2], [b_out1, b_out2] , label = 'line' , color= 'green')\n",
        "# plt.plot([c1 , c2], [c_out1, c_out2] , label = 'line' , color= 'red')\n",
        "# plt.plot([d1 , d2], [d_out1, d_out2] , label = 'line' , color= 'blue')\n",
        "# \n",
        "\n",
        "for i in range(10):\n",
        "  if i != 2 and i != 13 and i != 14 and i != 16 and i != 17 and i != 18:\n",
        "    x , y = make_line(second_weights[i], second_bias[i], 1.5, 4)\n",
        "    plt.plot(x, y , label = 'line' , color= 'red')\n",
        "\n",
        "# plt.plot([e1 , e2], [e_out1, e_out2] , label = 'line' , color= 'red')\n",
        "# plt.plot([f1 , f2], [f_out1, f_out2] , label = 'line' , color= 'blue')\n",
        "\n",
        "\n",
        "\n",
        "\n",
        "\n",
        "\n",
        "\n",
        "plt.show()"
      ],
      "execution_count": 0,
      "outputs": [
        {
          "output_type": "display_data",
          "data": {
            "image/png": "[encoded data removed]",
            "text/plain": [
              "<Figure size 432x288 with 1 Axes>"
            ]
          },
          "metadata": {
            "tags": []
          }
        }
      ]
    },
    {
      "cell_type": "code",
      "metadata": {
        "id": "FZ0EJnCfoZVy",
        "colab_type": "code",
        "colab": {}
      },
      "source": [
        ""
      ],
      "execution_count": 0,
      "outputs": []
    }
  ]
}